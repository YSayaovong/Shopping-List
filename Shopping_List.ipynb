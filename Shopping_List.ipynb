{
  "nbformat": 4,
  "nbformat_minor": 0,
  "metadata": {
    "colab": {
      "provenance": []
    },
    "kernelspec": {
      "name": "python3",
      "display_name": "Python 3"
    },
    "language_info": {
      "name": "python"
    }
  },
  "cells": [
    {
      "cell_type": "code",
      "execution_count": 1,
      "metadata": {
        "id": "zg-A6Aa76xpe"
      },
      "outputs": [],
      "source": [
        "Shopping_list=[]"
      ]
    },
    {
      "cell_type": "code",
      "source": [
        "Shopping_list=[\"Watch\",\"Laptop\",\"Shoes\",\"Pen\",\"Clothes\"]"
      ],
      "metadata": {
        "id": "q2-CJ3Ks7Apq"
      },
      "execution_count": 2,
      "outputs": []
    },
    {
      "cell_type": "code",
      "source": [
        "Shopping_list.append(\"Football\")"
      ],
      "metadata": {
        "id": "2rsRu9NR7Ir5"
      },
      "execution_count": 3,
      "outputs": []
    },
    {
      "cell_type": "code",
      "source": [
        "print(Shopping_list[0])"
      ],
      "metadata": {
        "colab": {
          "base_uri": "https://localhost:8080/"
        },
        "id": "FJt4sxBX7UdI",
        "outputId": "79a60ce6-a854-42f4-997e-63c92fc1c8df"
      },
      "execution_count": 4,
      "outputs": [
        {
          "output_type": "stream",
          "name": "stdout",
          "text": [
            "Watch\n"
          ]
        }
      ]
    },
    {
      "cell_type": "code",
      "source": [
        "print(Shopping_list[-1])"
      ],
      "metadata": {
        "colab": {
          "base_uri": "https://localhost:8080/"
        },
        "id": "GzA83Rkw7aIg",
        "outputId": "78c526aa-db12-4f8f-eb1a-0257e3ce056a"
      },
      "execution_count": 5,
      "outputs": [
        {
          "output_type": "stream",
          "name": "stdout",
          "text": [
            "Football\n"
          ]
        }
      ]
    },
    {
      "cell_type": "code",
      "source": [
        "print(Shopping_list)"
      ],
      "metadata": {
        "colab": {
          "base_uri": "https://localhost:8080/"
        },
        "id": "ybZ5TKHV7d1g",
        "outputId": "8d6760f6-b1ce-4e84-a585-b1cd7b7232ad"
      },
      "execution_count": 6,
      "outputs": [
        {
          "output_type": "stream",
          "name": "stdout",
          "text": [
            "['Watch', 'Laptop', 'Shoes', 'Pen', 'Clothes', 'Football']\n"
          ]
        }
      ]
    },
    {
      "cell_type": "code",
      "source": [
        "print(Shopping_list[1:3])"
      ],
      "metadata": {
        "colab": {
          "base_uri": "https://localhost:8080/"
        },
        "id": "Waxm71vE7hdg",
        "outputId": "ca54e97b-e1eb-4e13-9e2d-b8a72458a7ab"
      },
      "execution_count": 7,
      "outputs": [
        {
          "output_type": "stream",
          "name": "stdout",
          "text": [
            "['Laptop', 'Shoes']\n"
          ]
        }
      ]
    },
    {
      "cell_type": "code",
      "source": [
        "Shopping_list[3] = \"Notebook\""
      ],
      "metadata": {
        "id": "J6ad_aq77kWw"
      },
      "execution_count": 8,
      "outputs": []
    },
    {
      "cell_type": "code",
      "source": [
        "del (Shopping_list[4])"
      ],
      "metadata": {
        "id": "C7WMbkaA7oQI"
      },
      "execution_count": 9,
      "outputs": []
    },
    {
      "cell_type": "code",
      "source": [
        "print(Shopping_list)"
      ],
      "metadata": {
        "colab": {
          "base_uri": "https://localhost:8080/"
        },
        "id": "CJKnCVa67rbI",
        "outputId": "1d8b05a6-d068-4138-b72e-480bc43e3ebd"
      },
      "execution_count": 10,
      "outputs": [
        {
          "output_type": "stream",
          "name": "stdout",
          "text": [
            "['Watch', 'Laptop', 'Shoes', 'Notebook', 'Football']\n"
          ]
        }
      ]
    }
  ]
}